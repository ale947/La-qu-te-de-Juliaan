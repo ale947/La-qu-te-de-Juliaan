{
 "cells": [
  {
   "cell_type": "code",
   "execution_count": 9,
   "metadata": {},
   "outputs": [
    {
     "name": "stderr",
     "output_type": "stream",
     "text": [
      "2025-04-01 00:02:27.635 Thread 'MainThread': missing ScriptRunContext! This warning can be ignored when running in bare mode.\n",
      "2025-04-01 00:02:27.636 Thread 'MainThread': missing ScriptRunContext! This warning can be ignored when running in bare mode.\n",
      "2025-04-01 00:02:27.637 Thread 'MainThread': missing ScriptRunContext! This warning can be ignored when running in bare mode.\n",
      "2025-04-01 00:02:27.637 Thread 'MainThread': missing ScriptRunContext! This warning can be ignored when running in bare mode.\n",
      "2025-04-01 00:02:27.638 Thread 'MainThread': missing ScriptRunContext! This warning can be ignored when running in bare mode.\n",
      "2025-04-01 00:02:27.639 Thread 'MainThread': missing ScriptRunContext! This warning can be ignored when running in bare mode.\n",
      "2025-04-01 00:02:27.639 Thread 'MainThread': missing ScriptRunContext! This warning can be ignored when running in bare mode.\n",
      "2025-04-01 00:02:27.640 Thread 'MainThread': missing ScriptRunContext! This warning can be ignored when running in bare mode.\n",
      "2025-04-01 00:02:27.640 Thread 'MainThread': missing ScriptRunContext! This warning can be ignored when running in bare mode.\n",
      "2025-04-01 00:02:27.641 Thread 'MainThread': missing ScriptRunContext! This warning can be ignored when running in bare mode.\n",
      "2025-04-01 00:02:27.641 Thread 'MainThread': missing ScriptRunContext! This warning can be ignored when running in bare mode.\n",
      "2025-04-01 00:02:27.642 Thread 'MainThread': missing ScriptRunContext! This warning can be ignored when running in bare mode.\n",
      "2025-04-01 00:02:27.642 Thread 'MainThread': missing ScriptRunContext! This warning can be ignored when running in bare mode.\n",
      "2025-04-01 00:02:27.642 Thread 'MainThread': missing ScriptRunContext! This warning can be ignored when running in bare mode.\n",
      "2025-04-01 00:02:27.643 Thread 'MainThread': missing ScriptRunContext! This warning can be ignored when running in bare mode.\n",
      "2025-04-01 00:02:27.643 Thread 'MainThread': missing ScriptRunContext! This warning can be ignored when running in bare mode.\n",
      "2025-04-01 00:02:27.644 Thread 'MainThread': missing ScriptRunContext! This warning can be ignored when running in bare mode.\n",
      "2025-04-01 00:02:27.644 Thread 'MainThread': missing ScriptRunContext! This warning can be ignored when running in bare mode.\n"
     ]
    }
   ],
   "source": [
    "import streamlit as st\n",
    "import webbrowser\n",
    "\n",
    "# Définition des questions\n",
    "questions = [\n",
    "    {\"question\": \"Par quel méthode barbare est morte Marie Madeleine ?\", \"reponse\": \"La lapidation\"},\n",
    "    {\"question\": \"Comment s'appelle la femelle du cochon ?\", \"reponse\": \"La truie\"},\n",
    "    {\"question\": \"Quel est le mot le plus long de la langue française ?\", \"reponse\": \"Intergouvernementalisations\"},\n",
    "    {\"question\": \"Comment appelle t'on les habitants de la commune de Y ?\", \"reponse\": \"Les ypsiloniens\"}\n",
    "]\n",
    "\n",
    "# Initialisation de l'index de la question\n",
    "if \"index_question\" not in st.session_state:\n",
    "    st.session_state.index_question = 0\n",
    "    st.session_state.score = 0\n",
    "\n",
    "# Affichage de la question actuelle\n",
    "if st.session_state.index_question < len(questions):\n",
    "    question_actuelle = questions[st.session_state.index_question]\n",
    "    st.write(f\"**{question_actuelle['question']}**\")\n",
    "\n",
    "    reponse_utilisateur = st.text_input(\"Votre réponse :\")\n",
    "\n",
    "    if st.button(\"Valider\"):\n",
    "        if reponse_utilisateur.strip().lower() == question_actuelle[\"reponse\"].lower():\n",
    "            st.success(\"Bonne réponse !\")\n",
    "            st.session_state.index_question += 1\n",
    "            st.session_state.score += 1\n",
    "            st.experimental_rerun()\n",
    "        else:\n",
    "            st.error(\"Mauvaise réponse, essaye encore !\")\n",
    "else:\n",
    "    st.success(\"Bravo ! Tu as répondu à toutes les questions !\")\n",
    "    if st.button(\"Lire la Bible en ligne\"):\n",
    "        webbrowser.open(\"https://www.aelf.org/bible\")\n"
   ]
  }
 ],
 "metadata": {
  "kernelspec": {
   "display_name": "Python 3",
   "language": "python",
   "name": "python3"
  },
  "language_info": {
   "codemirror_mode": {
    "name": "ipython",
    "version": 3
   },
   "file_extension": ".py",
   "mimetype": "text/x-python",
   "name": "python",
   "nbconvert_exporter": "python",
   "pygments_lexer": "ipython3",
   "version": "3.12.6"
  }
 },
 "nbformat": 4,
 "nbformat_minor": 2
}
